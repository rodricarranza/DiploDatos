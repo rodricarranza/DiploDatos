{
 "cells": [
  {
   "cell_type": "markdown",
   "metadata": {},
   "source": [
    "<h1><center> Analysis of urban versus rural living</center></h1>\n",
    "![](https://sustainabilityatspu.files.wordpress.com/2014/01/urban-and-rural.jpg?w=1097&h=784)"
   ]
  },
  {
   "cell_type": "markdown",
   "metadata": {},
   "source": [
    "## Alcohol y Tabaquismo\n",
    "\n",
    "En el siguiente informe, se analizarán 2 variables de interés del dataset: **Alcohol** y **Smoking** (Tabaquismo), ya que creemos que ambas pueden estar relacionadas, teniendo en cuenta factores sociales."
   ]
  },
  {
   "cell_type": "code",
   "execution_count": 87,
   "metadata": {},
   "outputs": [],
   "source": [
    "%matplotlib inline\n",
    "import pandas as pd\n",
    "import copy\n",
    "import matplotlib.pyplot as plt\n",
    "import matplotlib.mlab as mlab\n",
    "import numpy as np\n",
    "import seaborn as sns\n",
    "from scipy import stats\n",
    "\n",
    "#import corrplot\n",
    "\n",
    "# styling\n",
    "pd.set_option('display.max_columns',150)\n",
    "plt.style.use('bmh')\n",
    "from IPython.display import display\n",
    "\n",
    "import warnings\n",
    "warnings.filterwarnings(\"ignore\")"
   ]
  },
  {
   "cell_type": "code",
   "execution_count": 88,
   "metadata": {},
   "outputs": [],
   "source": [
    "young = pd.read_csv('../../datasets/from_our_childhood.csv')"
   ]
  },
  {
   "cell_type": "markdown",
   "metadata": {},
   "source": [
    "### Análisis de estadísticos\n",
    "\n",
    "Para ver la relación entre estas variables, se calcularán las probabilidades marginales y conjuntas, también se verá el nivel de correlación entre ambas y por último se realizará un test de chi cuadrado sobre la independencia de dichas variables."
   ]
  },
  {
   "cell_type": "code",
   "execution_count": 89,
   "metadata": {},
   "outputs": [
    {
     "name": "stdout",
     "output_type": "stream",
     "text": [
      "Probabilidad Marginal de la variable Alcohol\n"
     ]
    },
    {
     "data": {
      "text/html": [
       "<div>\n",
       "<style scoped>\n",
       "    .dataframe tbody tr th:only-of-type {\n",
       "        vertical-align: middle;\n",
       "    }\n",
       "\n",
       "    .dataframe tbody tr th {\n",
       "        vertical-align: top;\n",
       "    }\n",
       "\n",
       "    .dataframe thead th {\n",
       "        text-align: right;\n",
       "    }\n",
       "</style>\n",
       "<table border=\"1\" class=\"dataframe\">\n",
       "  <thead>\n",
       "    <tr style=\"text-align: right;\">\n",
       "      <th></th>\n",
       "      <th>Alcohol</th>\n",
       "    </tr>\n",
       "  </thead>\n",
       "  <tbody>\n",
       "    <tr>\n",
       "      <th>social drinker</th>\n",
       "      <td>0.655721</td>\n",
       "    </tr>\n",
       "    <tr>\n",
       "      <th>drink a lot</th>\n",
       "      <td>0.220896</td>\n",
       "    </tr>\n",
       "    <tr>\n",
       "      <th>never</th>\n",
       "      <td>0.123383</td>\n",
       "    </tr>\n",
       "  </tbody>\n",
       "</table>\n",
       "</div>"
      ],
      "text/plain": [
       "                 Alcohol\n",
       "social drinker  0.655721\n",
       "drink a lot     0.220896\n",
       "never           0.123383"
      ]
     },
     "metadata": {},
     "output_type": "display_data"
    },
    {
     "name": "stdout",
     "output_type": "stream",
     "text": [
      "Probabilidad Marginal de la variable Smoking\n"
     ]
    },
    {
     "data": {
      "text/html": [
       "<div>\n",
       "<style scoped>\n",
       "    .dataframe tbody tr th:only-of-type {\n",
       "        vertical-align: middle;\n",
       "    }\n",
       "\n",
       "    .dataframe tbody tr th {\n",
       "        vertical-align: top;\n",
       "    }\n",
       "\n",
       "    .dataframe thead th {\n",
       "        text-align: right;\n",
       "    }\n",
       "</style>\n",
       "<table border=\"1\" class=\"dataframe\">\n",
       "  <thead>\n",
       "    <tr style=\"text-align: right;\">\n",
       "      <th></th>\n",
       "      <th>Smoking</th>\n",
       "    </tr>\n",
       "  </thead>\n",
       "  <tbody>\n",
       "    <tr>\n",
       "      <th>tried smoking</th>\n",
       "      <td>0.429142</td>\n",
       "    </tr>\n",
       "    <tr>\n",
       "      <th>never smoked</th>\n",
       "      <td>0.207585</td>\n",
       "    </tr>\n",
       "    <tr>\n",
       "      <th>current smoker</th>\n",
       "      <td>0.188623</td>\n",
       "    </tr>\n",
       "    <tr>\n",
       "      <th>former smoker</th>\n",
       "      <td>0.174651</td>\n",
       "    </tr>\n",
       "  </tbody>\n",
       "</table>\n",
       "</div>"
      ],
      "text/plain": [
       "                 Smoking\n",
       "tried smoking   0.429142\n",
       "never smoked    0.207585\n",
       "current smoker  0.188623\n",
       "former smoker   0.174651"
      ]
     },
     "metadata": {},
     "output_type": "display_data"
    },
    {
     "data": {
      "image/png": "[encoded data removed]",
      "text/plain": [
       "<matplotlib.figure.Figure at 0x1a3cec7b70>"
      ]
     },
     "metadata": {},
     "output_type": "display_data"
    }
   ],
   "source": [
    "fig, ax = plt.subplots(nrows=1, ncols=2, figsize=(20,5))\n",
    "\n",
    "def plot_marginal_probability(dataset, var_name, color, ax):\n",
    "    data = young[var_name].value_counts(normalize=True, dropna=True).to_frame()\n",
    "    display(data)\n",
    "\n",
    "    sns.barplot(\n",
    "        data=data.reset_index(),\n",
    "        x='index',\n",
    "        y=var_name,\n",
    "        color=color,\n",
    "        orient='v',\n",
    "        ax=ax\n",
    "    )\n",
    "\n",
    "print('Probabilidad Marginal de la variable Alcohol')\n",
    "plot_marginal_probability(young, 'Alcohol', 'blue', ax[0])\n",
    "\n",
    "print('Probabilidad Marginal de la variable Smoking')\n",
    "plot_marginal_probability(young, 'Smoking', 'Grey', ax[1])"
   ]
  },
  {
   "cell_type": "markdown",
   "metadata": {},
   "source": [
    "#### Probabilidad Conjunta de las variables Alcohol y Smoking"
   ]
  },
  {
   "cell_type": "code",
   "execution_count": 90,
   "metadata": {},
   "outputs": [
    {
     "data": {
      "text/html": [
       "<div>\n",
       "<style scoped>\n",
       "    .dataframe tbody tr th:only-of-type {\n",
       "        vertical-align: middle;\n",
       "    }\n",
       "\n",
       "    .dataframe tbody tr th {\n",
       "        vertical-align: top;\n",
       "    }\n",
       "\n",
       "    .dataframe thead th {\n",
       "        text-align: right;\n",
       "    }\n",
       "</style>\n",
       "<table border=\"1\" class=\"dataframe\">\n",
       "  <thead>\n",
       "    <tr style=\"text-align: right;\">\n",
       "      <th>Smoking</th>\n",
       "      <th>current smoker</th>\n",
       "      <th>former smoker</th>\n",
       "      <th>never smoked</th>\n",
       "      <th>tried smoking</th>\n",
       "      <th>All</th>\n",
       "    </tr>\n",
       "    <tr>\n",
       "      <th>Alcohol</th>\n",
       "      <th></th>\n",
       "      <th></th>\n",
       "      <th></th>\n",
       "      <th></th>\n",
       "      <th></th>\n",
       "    </tr>\n",
       "  </thead>\n",
       "  <tbody>\n",
       "    <tr>\n",
       "      <th>drink a lot</th>\n",
       "      <td>0.078</td>\n",
       "      <td>0.055</td>\n",
       "      <td>0.015</td>\n",
       "      <td>0.072</td>\n",
       "      <td>0.220</td>\n",
       "    </tr>\n",
       "    <tr>\n",
       "      <th>never</th>\n",
       "      <td>0.011</td>\n",
       "      <td>0.011</td>\n",
       "      <td>0.061</td>\n",
       "      <td>0.039</td>\n",
       "      <td>0.122</td>\n",
       "    </tr>\n",
       "    <tr>\n",
       "      <th>social drinker</th>\n",
       "      <td>0.099</td>\n",
       "      <td>0.109</td>\n",
       "      <td>0.131</td>\n",
       "      <td>0.319</td>\n",
       "      <td>0.658</td>\n",
       "    </tr>\n",
       "    <tr>\n",
       "      <th>All</th>\n",
       "      <td>0.188</td>\n",
       "      <td>0.175</td>\n",
       "      <td>0.207</td>\n",
       "      <td>0.430</td>\n",
       "      <td>1.000</td>\n",
       "    </tr>\n",
       "  </tbody>\n",
       "</table>\n",
       "</div>"
      ],
      "text/plain": [
       "Smoking         current smoker  former smoker  never smoked  tried smoking  \\\n",
       "Alcohol                                                                      \n",
       "drink a lot              0.078          0.055         0.015          0.072   \n",
       "never                    0.011          0.011         0.061          0.039   \n",
       "social drinker           0.099          0.109         0.131          0.319   \n",
       "All                      0.188          0.175         0.207          0.430   \n",
       "\n",
       "Smoking           All  \n",
       "Alcohol                \n",
       "drink a lot     0.220  \n",
       "never           0.122  \n",
       "social drinker  0.658  \n",
       "All             1.000  "
      ]
     },
     "execution_count": 90,
     "metadata": {},
     "output_type": "execute_result"
    }
   ],
   "source": [
    "# Joint Probability\n",
    "pd.crosstab(young.Alcohol, young.Smoking, normalize = True, margins = True)"
   ]
  },
  {
   "cell_type": "markdown",
   "metadata": {},
   "source": [
    "Se puede ver que es muy común haber intenado fumar y ser un bebedor social, lo cual indica que estos hábitos tienen una gran característica social."
   ]
  },
  {
   "cell_type": "code",
   "execution_count": 91,
   "metadata": {},
   "outputs": [
    {
     "data": {
      "text/plain": [
       "0.23614548946760536"
      ]
     },
     "execution_count": 91,
     "metadata": {},
     "output_type": "execute_result"
    }
   ],
   "source": [
    "# Conditional Probability Table\n",
    "# Changing a categorical column to be able to do correlation\n",
    "# Make sure not to change the original dataset\n",
    "alcohol_smoking = young[['Smoking', 'Alcohol', 'Gender']].copy()\n",
    "alcohol_smoking.Gender = young.Gender.astype('category').cat.codes\n",
    "alcohol_smoking.Smoking = young.Smoking.astype('category').cat.codes\n",
    "alcohol_smoking.Alcohol = young.Alcohol.astype('category').cat.codes\n",
    "\n",
    "# Correlation between 'Alcohol' and 'Smoking'\n",
    "alcohol_smoking[['Alcohol', 'Smoking']].corr().Alcohol.Smoking"
   ]
  },
  {
   "cell_type": "markdown",
   "metadata": {},
   "source": [
    "Como se puede observar del cálculo de correlación entre las variables, se puede decir que si bien es positiva no es lo suficientemente fuerte para decir que la relación es estrictamente lineal. Veamos que pasa en el caso de disgregarlo por género: "
   ]
  },
  {
   "cell_type": "code",
   "execution_count": 92,
   "metadata": {},
   "outputs": [
    {
     "data": {
      "text/plain": [
       "0.24639137114126905"
      ]
     },
     "execution_count": 92,
     "metadata": {},
     "output_type": "execute_result"
    }
   ],
   "source": [
    "# Correlation between 'Alcohol' and 'Smoking' for female\n",
    "# female == 0\n",
    "# male == 1\n",
    "female_smoking_alcohol = alcohol_smoking[alcohol_smoking.Gender == 0]\n",
    "female_smoking_alcohol[['Alcohol', 'Smoking']].corr().Alcohol.Smoking"
   ]
  },
  {
   "cell_type": "code",
   "execution_count": 93,
   "metadata": {},
   "outputs": [
    {
     "data": {
      "text/plain": [
       "0.2275309644975181"
      ]
     },
     "execution_count": 93,
     "metadata": {},
     "output_type": "execute_result"
    }
   ],
   "source": [
    "# Correlation between 'Alcohol' and 'Smoking' for male\n",
    "male_smoking_alcohol = alcohol_smoking[alcohol_smoking.Gender == 1]\n",
    "male_smoking_alcohol[['Alcohol', 'Smoking']].corr().Alcohol.Smoking"
   ]
  },
  {
   "cell_type": "markdown",
   "metadata": {},
   "source": [
    "El disgregarlo no dio ningún dato significativo que valga la pena destacar. El hecho de que en las mujeres la correlación sea un poco más fuerte no implica que las mismas tiendan a tomar y fumar más que los hombres."
   ]
  },
  {
   "cell_type": "markdown",
   "metadata": {},
   "source": [
    "#### Gráfico de probabilidad conjunta\n",
    "\n",
    "En el siguiente gráfico se puede apreciar la tabla de probabilidad conjunta, presentada anteriormente, para las variables 'Alcohol' y 'Smoking'."
   ]
  },
  {
   "cell_type": "code",
   "execution_count": 94,
   "metadata": {},
   "outputs": [
    {
     "data": {
      "image/png": "[encoded data removed]",
      "text/plain": [
       "<matplotlib.figure.Figure at 0x1a3baea550>"
      ]
     },
     "metadata": {},
     "output_type": "display_data"
    }
   ],
   "source": [
    "sns.jointplot('Smoking', 'Alcohol', data=alcohol_smoking, kind=\"kde\", size=10);"
   ]
  },
  {
   "cell_type": "markdown",
   "metadata": {},
   "source": [
    "#### Test de chi cuadrado\n",
    "\n",
    "Presentaremos un análisis de la independencia entre las variables 'Smoking' y 'Alcohol'. Para la misma se realizará un test de chi cuadrado con las siguientes hipótesis:\n",
    "   * $H_0$ = 'Fumar y tomar alcohol son dos variables independientes'\n",
    "   * $H_1$ = 'Existe dependencia entre fumar y tomar alcohol'\n",
    "   \n",
    "Se intentará probar que existe una dependencia, es decir, que $H_1$ es válida. Para esto primero se procederá a analizar la tabla de frecuencia observadas y marginales para dichas variables."
   ]
  },
  {
   "cell_type": "code",
   "execution_count": 95,
   "metadata": {
    "scrolled": true
   },
   "outputs": [
    {
     "data": {
      "text/html": [
       "<div>\n",
       "<style scoped>\n",
       "    .dataframe tbody tr th:only-of-type {\n",
       "        vertical-align: middle;\n",
       "    }\n",
       "\n",
       "    .dataframe tbody tr th {\n",
       "        vertical-align: top;\n",
       "    }\n",
       "\n",
       "    .dataframe thead th {\n",
       "        text-align: right;\n",
       "    }\n",
       "</style>\n",
       "<table border=\"1\" class=\"dataframe\">\n",
       "  <thead>\n",
       "    <tr style=\"text-align: right;\">\n",
       "      <th>Smoking</th>\n",
       "      <th>current smoker</th>\n",
       "      <th>former smoker</th>\n",
       "      <th>never smoked</th>\n",
       "      <th>tried smoking</th>\n",
       "      <th>All</th>\n",
       "    </tr>\n",
       "    <tr>\n",
       "      <th>Alcohol</th>\n",
       "      <th></th>\n",
       "      <th></th>\n",
       "      <th></th>\n",
       "      <th></th>\n",
       "      <th></th>\n",
       "    </tr>\n",
       "  </thead>\n",
       "  <tbody>\n",
       "    <tr>\n",
       "      <th>drink a lot</th>\n",
       "      <td>78</td>\n",
       "      <td>55</td>\n",
       "      <td>15</td>\n",
       "      <td>72</td>\n",
       "      <td>220</td>\n",
       "    </tr>\n",
       "    <tr>\n",
       "      <th>never</th>\n",
       "      <td>11</td>\n",
       "      <td>11</td>\n",
       "      <td>61</td>\n",
       "      <td>39</td>\n",
       "      <td>122</td>\n",
       "    </tr>\n",
       "    <tr>\n",
       "      <th>social drinker</th>\n",
       "      <td>99</td>\n",
       "      <td>109</td>\n",
       "      <td>131</td>\n",
       "      <td>319</td>\n",
       "      <td>658</td>\n",
       "    </tr>\n",
       "    <tr>\n",
       "      <th>All</th>\n",
       "      <td>188</td>\n",
       "      <td>175</td>\n",
       "      <td>207</td>\n",
       "      <td>430</td>\n",
       "      <td>1000</td>\n",
       "    </tr>\n",
       "  </tbody>\n",
       "</table>\n",
       "</div>"
      ],
      "text/plain": [
       "Smoking         current smoker  former smoker  never smoked  tried smoking  \\\n",
       "Alcohol                                                                      \n",
       "drink a lot                 78             55            15             72   \n",
       "never                       11             11            61             39   \n",
       "social drinker              99            109           131            319   \n",
       "All                        188            175           207            430   \n",
       "\n",
       "Smoking          All  \n",
       "Alcohol               \n",
       "drink a lot      220  \n",
       "never            122  \n",
       "social drinker   658  \n",
       "All             1000  "
      ]
     },
     "execution_count": 95,
     "metadata": {},
     "output_type": "execute_result"
    }
   ],
   "source": [
    "pd.crosstab(young.Alcohol, young.Smoking, margins = True)"
   ]
  },
  {
   "cell_type": "markdown",
   "metadata": {},
   "source": [
    "Es posible observar en la tabla que la gran mayoría de los fumadores activos bebe. Del total de estos, un **41%** bebe mucho y un **52%** es un bebedor social reflejando que el **93%** de la gente que fuma activamente bebe.\n",
    "\n",
    "Lo mismo se puede observar entre las personas que intentaron fumar. De esta categoría el **91%** bebe mucho o es un bebedor social lo cual nos lleva a inferir que hay una relación entre ambas variables.\n",
    "\n",
    "Para poder realizar una prueba de independencia de chi cuadrado es necesario además tener una tabla de las frecuencias esperadas. Mientras más se acerquen los valores observados a los esperados, el valor del estadístico se acercara a 0 avalando $H_0$. Caso contrario, si los valores son muy dispares se rechazaría la hipótesis nula."
   ]
  },
  {
   "cell_type": "code",
   "execution_count": 96,
   "metadata": {},
   "outputs": [
    {
     "data": {
      "text/html": [
       "<div>\n",
       "<style scoped>\n",
       "    .dataframe tbody tr th:only-of-type {\n",
       "        vertical-align: middle;\n",
       "    }\n",
       "\n",
       "    .dataframe tbody tr th {\n",
       "        vertical-align: top;\n",
       "    }\n",
       "\n",
       "    .dataframe thead th {\n",
       "        text-align: right;\n",
       "    }\n",
       "</style>\n",
       "<table border=\"1\" class=\"dataframe\">\n",
       "  <thead>\n",
       "    <tr style=\"text-align: right;\">\n",
       "      <th>Smoking</th>\n",
       "      <th>current smoker</th>\n",
       "      <th>former smoker</th>\n",
       "      <th>never smoked</th>\n",
       "      <th>tried smoking</th>\n",
       "      <th>All</th>\n",
       "    </tr>\n",
       "    <tr>\n",
       "      <th>Alcohol</th>\n",
       "      <th></th>\n",
       "      <th></th>\n",
       "      <th></th>\n",
       "      <th></th>\n",
       "      <th></th>\n",
       "    </tr>\n",
       "  </thead>\n",
       "  <tbody>\n",
       "    <tr>\n",
       "      <th>drink a lot</th>\n",
       "      <td>41.360</td>\n",
       "      <td>38.50</td>\n",
       "      <td>45.540</td>\n",
       "      <td>94.60</td>\n",
       "      <td>220.0</td>\n",
       "    </tr>\n",
       "    <tr>\n",
       "      <th>never</th>\n",
       "      <td>22.936</td>\n",
       "      <td>21.35</td>\n",
       "      <td>25.254</td>\n",
       "      <td>52.46</td>\n",
       "      <td>122.0</td>\n",
       "    </tr>\n",
       "    <tr>\n",
       "      <th>social drinker</th>\n",
       "      <td>123.704</td>\n",
       "      <td>115.15</td>\n",
       "      <td>136.206</td>\n",
       "      <td>282.94</td>\n",
       "      <td>658.0</td>\n",
       "    </tr>\n",
       "    <tr>\n",
       "      <th>All</th>\n",
       "      <td>188.000</td>\n",
       "      <td>175.00</td>\n",
       "      <td>207.000</td>\n",
       "      <td>430.00</td>\n",
       "      <td>1000.0</td>\n",
       "    </tr>\n",
       "  </tbody>\n",
       "</table>\n",
       "</div>"
      ],
      "text/plain": [
       "Smoking         current smoker  former smoker  never smoked  tried smoking  \\\n",
       "Alcohol                                                                      \n",
       "drink a lot             41.360          38.50        45.540          94.60   \n",
       "never                   22.936          21.35        25.254          52.46   \n",
       "social drinker         123.704         115.15       136.206         282.94   \n",
       "All                    188.000         175.00       207.000         430.00   \n",
       "\n",
       "Smoking            All  \n",
       "Alcohol                 \n",
       "drink a lot      220.0  \n",
       "never            122.0  \n",
       "social drinker   658.0  \n",
       "All             1000.0  "
      ]
     },
     "execution_count": 96,
     "metadata": {},
     "output_type": "execute_result"
    }
   ],
   "source": [
    "# Observed frecuency\n",
    "observed_frecuency = pd.crosstab(young.Alcohol, young.Smoking)\n",
    "\n",
    "# Calculate the chi-square results through scipy special function 'chi2_contigency'\n",
    "[value, p_value, g, frequency_array] = stats.chi2_contingency(observed_frecuency)\n",
    "\n",
    "# Expected frecuency\n",
    "expected_frecuency = pd.DataFrame(frequency_array, columns=observed_frecuency.columns, index=observed_frecuency.index)\n",
    "# Add total per row and column\n",
    "expected_frecuency['All'] = expected_frecuency.sum(axis=1)\n",
    "expected_frecuency.loc['All']= expected_frecuency.sum()\n",
    "expected_frecuency"
   ]
  },
  {
   "cell_type": "code",
   "execution_count": 97,
   "metadata": {
    "scrolled": true
   },
   "outputs": [
    {
     "name": "stdout",
     "output_type": "stream",
     "text": [
      "estadístico chi cuadrado (experimental): 140.7461035508088\n",
      "\n",
      "p-valor: 6.974221284156533e-28\n",
      "\n",
      "Grados de libertad: 6\n",
      "\n"
     ]
    }
   ],
   "source": [
    "print('estadístico chi cuadrado (experimental): {}\\n'.format(value))\n",
    "print('p-valor: {}\\n'.format(p_value))\n",
    "print('Grados de libertad: {}\\n'.format(g))"
   ]
  },
  {
   "cell_type": "markdown",
   "metadata": {},
   "source": [
    "Si comparamos el valor del estadístico chi-cuadrado experiemental con el valor crítico del modelo veremos que si tomamos un $ \\alpha = 0.05 $ con **6** grados de libertad\n",
    "\n",
    " $ \\chi^2_{experimental}\\  \\gt \\  \\chi^2_{6, 0.05} $\n",
    " \n",
    " $ 140.746\\  \\gt \\ 12.592 $\n",
    " \n",
    " \n",
    " Lo cual nos lleva la conclusión de que debemos rechazar la hipótesis nula por existir dependencia entre ambas variables. No se puede decir con exactitud que beber conlleve a fumar o viceversa, pero podemos inferir por lo analizado anteriormente que la dependencia entre las variables se debe a una influencia social."
   ]
  }
 ],
 "metadata": {
  "kernelspec": {
   "display_name": "Python 3",
   "language": "python",
   "name": "python3"
  },
  "language_info": {
   "codemirror_mode": {
    "name": "ipython",
    "version": 3
   },
   "file_extension": ".py",
   "mimetype": "text/x-python",
   "name": "python",
   "nbconvert_exporter": "python",
   "pygments_lexer": "ipython3",
   "version": "3.6.4"
  }
 },
 "nbformat": 4,
 "nbformat_minor": 2
}
