{
 "cells": [
  {
   "cell_type": "markdown",
   "metadata": {},
   "source": [
    "<h1><center> Analysis of urban versus rural living</center></h1>\n",
    "![](https://sustainabilityatspu.files.wordpress.com/2014/01/urban-and-rural.jpg?w=1097&h=784)"
   ]
  },
  {
   "cell_type": "code",
   "execution_count": 1,
   "metadata": {},
   "outputs": [],
   "source": [
    "%matplotlib inline\n",
    "import pandas as pd\n",
    "import copy\n",
    "import matplotlib.pyplot as plt\n",
    "import matplotlib.mlab as mlab\n",
    "import numpy as np\n",
    "import seaborn as sns\n",
    "from scipy import stats\n",
    "\n",
    "#import corrplot\n",
    "\n",
    "# styling\n",
    "pd.set_option('display.max_columns',150)\n",
    "plt.style.use('bmh')\n",
    "from IPython.display import display\n",
    "\n",
    "import warnings\n",
    "warnings.filterwarnings(\"ignore\")"
   ]
  },
  {
   "cell_type": "code",
   "execution_count": 2,
   "metadata": {},
   "outputs": [],
   "source": [
    "young = pd.read_csv('../../datasets/from_our_childhood.csv')"
   ]
  },
  {
   "cell_type": "markdown",
   "metadata": {},
   "source": [
    "En el siguiente informe, presentaremos un análisis de la independencia entre las variables 'Smoking' y 'Alcohol'. Para la misma se realizará un test de chi cuadrado con las siguientes hipótesis:\n",
    "   * $H_0$ = 'Fumar y tomar alcohol son dos variables independientes'\n",
    "   * $H_1$ = 'Existe dependencia entre fumar y tomar alcohol'\n",
    "   \n",
    "Se intentará probar que existe una dependencia, es decir, que $H_1$ es válida. Para esto primero se procederá a analizar la tabla de frecuencia observadas y marginales para dichas variables."
   ]
  },
  {
   "cell_type": "code",
   "execution_count": 5,
   "metadata": {
    "scrolled": true
   },
   "outputs": [
    {
     "data": {
      "text/html": [
       "<div>\n",
       "<style scoped>\n",
       "    .dataframe tbody tr th:only-of-type {\n",
       "        vertical-align: middle;\n",
       "    }\n",
       "\n",
       "    .dataframe tbody tr th {\n",
       "        vertical-align: top;\n",
       "    }\n",
       "\n",
       "    .dataframe thead th {\n",
       "        text-align: right;\n",
       "    }\n",
       "</style>\n",
       "<table border=\"1\" class=\"dataframe\">\n",
       "  <thead>\n",
       "    <tr style=\"text-align: right;\">\n",
       "      <th>Smoking</th>\n",
       "      <th>current smoker</th>\n",
       "      <th>former smoker</th>\n",
       "      <th>never smoked</th>\n",
       "      <th>tried smoking</th>\n",
       "      <th>All</th>\n",
       "    </tr>\n",
       "    <tr>\n",
       "      <th>Alcohol</th>\n",
       "      <th></th>\n",
       "      <th></th>\n",
       "      <th></th>\n",
       "      <th></th>\n",
       "      <th></th>\n",
       "    </tr>\n",
       "  </thead>\n",
       "  <tbody>\n",
       "    <tr>\n",
       "      <th>drink a lot</th>\n",
       "      <td>78</td>\n",
       "      <td>55</td>\n",
       "      <td>15</td>\n",
       "      <td>72</td>\n",
       "      <td>220</td>\n",
       "    </tr>\n",
       "    <tr>\n",
       "      <th>never</th>\n",
       "      <td>11</td>\n",
       "      <td>11</td>\n",
       "      <td>61</td>\n",
       "      <td>39</td>\n",
       "      <td>122</td>\n",
       "    </tr>\n",
       "    <tr>\n",
       "      <th>social drinker</th>\n",
       "      <td>99</td>\n",
       "      <td>109</td>\n",
       "      <td>131</td>\n",
       "      <td>319</td>\n",
       "      <td>658</td>\n",
       "    </tr>\n",
       "    <tr>\n",
       "      <th>All</th>\n",
       "      <td>188</td>\n",
       "      <td>175</td>\n",
       "      <td>207</td>\n",
       "      <td>430</td>\n",
       "      <td>1000</td>\n",
       "    </tr>\n",
       "  </tbody>\n",
       "</table>\n",
       "</div>"
      ],
      "text/plain": [
       "Smoking         current smoker  former smoker  never smoked  tried smoking  \\\n",
       "Alcohol                                                                      \n",
       "drink a lot                 78             55            15             72   \n",
       "never                       11             11            61             39   \n",
       "social drinker              99            109           131            319   \n",
       "All                        188            175           207            430   \n",
       "\n",
       "Smoking          All  \n",
       "Alcohol               \n",
       "drink a lot      220  \n",
       "never            122  \n",
       "social drinker   658  \n",
       "All             1000  "
      ]
     },
     "execution_count": 5,
     "metadata": {},
     "output_type": "execute_result"
    }
   ],
   "source": [
    "pd.crosstab(young.Alcohol, young.Smoking, margins = True)"
   ]
  },
  {
   "cell_type": "markdown",
   "metadata": {},
   "source": [
    "Es posible observar en la tabla que la gran mayoría de los fumadores activos bebe. Del total de estos, un **41%** bebe mucho y un **52%** es un bebedor social reflejando que el **93%** de la gente que fuma activamente bebe.\n",
    "\n",
    "Lo mismo se puede observar entre las personas que intentaron fumar. De esta categoría el **91%** bebe mucho o es un bebedor social lo cual nos lleva a inferir que hay una relación entre ambas variables.\n",
    "\n",
    "Para poder realizar una prueba de independencia de chi cuadrado es necesario además tener una tabla de las frecuencias esperadas. Mientras más se acerquen los valores observados a los esperados el valor del estadístico se acercara a 0 avalando $H_0$. Caso contrario, si los valores son muy dispares se rechazaría la hipótesis nula."
   ]
  },
  {
   "cell_type": "code",
   "execution_count": 46,
   "metadata": {},
   "outputs": [
    {
     "data": {
      "text/html": [
       "<div>\n",
       "<style scoped>\n",
       "    .dataframe tbody tr th:only-of-type {\n",
       "        vertical-align: middle;\n",
       "    }\n",
       "\n",
       "    .dataframe tbody tr th {\n",
       "        vertical-align: top;\n",
       "    }\n",
       "\n",
       "    .dataframe thead th {\n",
       "        text-align: right;\n",
       "    }\n",
       "</style>\n",
       "<table border=\"1\" class=\"dataframe\">\n",
       "  <thead>\n",
       "    <tr style=\"text-align: right;\">\n",
       "      <th></th>\n",
       "      <th>current smoker</th>\n",
       "      <th>former smoker</th>\n",
       "      <th>never smoked</th>\n",
       "      <th>tried smoking</th>\n",
       "      <th>All</th>\n",
       "    </tr>\n",
       "  </thead>\n",
       "  <tbody>\n",
       "    <tr>\n",
       "      <th>drink a lot</th>\n",
       "      <td>41.360</td>\n",
       "      <td>38.50</td>\n",
       "      <td>45.540</td>\n",
       "      <td>94.60</td>\n",
       "      <td>220.0</td>\n",
       "    </tr>\n",
       "    <tr>\n",
       "      <th>never</th>\n",
       "      <td>22.936</td>\n",
       "      <td>21.35</td>\n",
       "      <td>25.254</td>\n",
       "      <td>52.46</td>\n",
       "      <td>122.0</td>\n",
       "    </tr>\n",
       "    <tr>\n",
       "      <th>social drinker</th>\n",
       "      <td>123.704</td>\n",
       "      <td>115.15</td>\n",
       "      <td>136.206</td>\n",
       "      <td>282.94</td>\n",
       "      <td>658.0</td>\n",
       "    </tr>\n",
       "    <tr>\n",
       "      <th>All</th>\n",
       "      <td>188.000</td>\n",
       "      <td>175.00</td>\n",
       "      <td>207.000</td>\n",
       "      <td>430.00</td>\n",
       "      <td>1000.0</td>\n",
       "    </tr>\n",
       "  </tbody>\n",
       "</table>\n",
       "</div>"
      ],
      "text/plain": [
       "                current smoker  former smoker  never smoked  tried smoking  \\\n",
       "drink a lot             41.360          38.50        45.540          94.60   \n",
       "never                   22.936          21.35        25.254          52.46   \n",
       "social drinker         123.704         115.15       136.206         282.94   \n",
       "All                    188.000         175.00       207.000         430.00   \n",
       "\n",
       "                   All  \n",
       "drink a lot      220.0  \n",
       "never            122.0  \n",
       "social drinker   658.0  \n",
       "All             1000.0  "
      ]
     },
     "execution_count": 46,
     "metadata": {},
     "output_type": "execute_result"
    }
   ],
   "source": [
    "# Observed frecuency\n",
    "observed_frecuency = pd.crosstab(young.Alcohol, young.Smoking)\n",
    "\n",
    "# Calculate the chi-square results through scipy special function 'chi2_contigency'\n",
    "chi_square_results = stats.chi2_contingency(observed_frecuency)\n",
    "[value, p_value, g, frequency_array] = chi_square_results\n",
    "smoking_labels = ['current smoker', 'former smoker', 'never smoked', 'tried smoking']\n",
    "alcohol_labels = ['drink a lot', 'never', 'social drinker']\n",
    "\n",
    "\n",
    "# Expected frecuency\n",
    "expected_frecuency = pd.DataFrame(frequency_array, columns=smoking_labels, index=alcohol_labels)\n",
    "# Add total per row and column\n",
    "expected_frecuency['All'] = expected_frecuency.sum(axis=1)\n",
    "expected_frecuency.loc['All']= expected_frecuency.sum()\n",
    "expected_frecuency"
   ]
  },
  {
   "cell_type": "code",
   "execution_count": 51,
   "metadata": {
    "scrolled": true
   },
   "outputs": [
    {
     "name": "stdout",
     "output_type": "stream",
     "text": [
      "estadístico chi cuadrado (experimental): 140.7461035508088\n",
      "\n",
      "p-valor: 6.974221284156533e-28\n",
      "\n",
      "Grados de libertad: 6\n",
      "\n"
     ]
    }
   ],
   "source": [
    "print('estadístico chi cuadrado (experimental): {}\\n'.format(value))\n",
    "print('p-valor: {}\\n'.format(p_value))\n",
    "print('Grados de libertad: {}\\n'.format(g))"
   ]
  },
  {
   "cell_type": "markdown",
   "metadata": {},
   "source": [
    "Si comparamos el valor del estadístico chi-cuadrado experiemental con el valor crítico del modelo veremos que si tomamos un $ \\alpha = 0.05 $ con **6** grados de libertad\n",
    "\n",
    " $ \\chi^2_{experimental}\\  \\gt \\  \\chi^2_{6, 0.05} $\n",
    " \n",
    " $ 140.746\\  \\gt \\ 12.592 $\n",
    " \n",
    " \n",
    " Lo cual nos lleva la conclusión de que debemos rechazar la hipótesis nula por existir dependencia entre ambas variables. \n",
    "#### Haría falta un análisis del p-valor y otras opciones para alpha"
   ]
  },
  {
   "cell_type": "code",
   "execution_count": null,
   "metadata": {},
   "outputs": [],
   "source": []
  }
 ],
 "metadata": {
  "kernelspec": {
   "display_name": "Python [default]",
   "language": "python",
   "name": "python3"
  },
  "language_info": {
   "codemirror_mode": {
    "name": "ipython",
    "version": 3
   },
   "file_extension": ".py",
   "mimetype": "text/x-python",
   "name": "python",
   "nbconvert_exporter": "python",
   "pygments_lexer": "ipython3",
   "version": "3.5.5"
  }
 },
 "nbformat": 4,
 "nbformat_minor": 2
}
