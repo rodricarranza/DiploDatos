{
 "cells": [
  {
   "cell_type": "code",
   "execution_count": null,
   "metadata": {},
   "outputs": [],
   "source": [
    "# ---\n",
    "# title: \"Practico: Análisis de Texto\"\n",
    "# Text: Obras Escogidas, Gustavo Adolfo Bécquer\n",
    "# URL: http://www.gutenberg.org/cache/epub/53552/pg53552.txt\n",
    "# author: \"Carranza Rodrigo\"\n",
    "# date: \"5/27/2018\"\n",
    "# ---\n",
    "\n",
    "import pandas as pd"
   ]
  }
 ],
 "metadata": {
  "kernelspec": {
   "display_name": "Python [conda env:diplodatos-ayv]",
   "language": "python",
   "name": "conda-env-diplodatos-ayv-py"
  },
  "language_info": {
   "codemirror_mode": {
    "name": "ipython",
    "version": 3
   },
   "file_extension": ".py",
   "mimetype": "text/x-python",
   "name": "python",
   "nbconvert_exporter": "python",
   "pygments_lexer": "ipython3",
   "version": "3.5.5"
  }
 },
 "nbformat": 4,
 "nbformat_minor": 2
}
